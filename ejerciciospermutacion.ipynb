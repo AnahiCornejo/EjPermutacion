{
 "cells": [
  {
   "cell_type": "code",
   "execution_count": 3,
   "metadata": {},
   "outputs": [],
   "source": [
    "import math as math"
   ]
  },
  {
   "cell_type": "markdown",
   "metadata": {},
   "source": [
    "## 9. Los números telefónicos en la ciudad de Cuernavaca, Morelos, constan de siete dígitos."
   ]
  },
  {
   "cell_type": "markdown",
   "metadata": {},
   "source": [
    "<font size=\"4\"> **a)** ¿Cuántas líneas telefónicas pueden crearse en esa ciudad? Recuerda que no pueden comenzar con cero.</font>\n",
    "\n",
    "\n",
    "Para calcular el número posible de líneas telefónicas en Cuernavaca, Morelos necesitamos considerar lo siguiente:\n",
    "\n",
    "- Cada número telefónico consta de siete dígitos.\n",
    "- El primer dígito no puede ser cero.\n",
    "- Los seis dígitos restantes pueden ser cualquier número del 0 al 9.\n",
    "\n",
    "Asi que para poder determinar el número total de líneas telefónicas que podemos crear, debemos analizar las posibilidades para cada dígito:\n",
    "\n",
    "- Primer dígito: Tenemos 9 opciones (del 1 al 9).\n",
    "\n",
    "- Dígitos restantes: Para cada uno de los seis dígitos restantes, tenemos 10 opciones (del 0 al 9).\n",
    "\n",
    "Por lo tanto el número total de líneas telefónicas se calcula multiplicando el número de posibilidades para cada dígito:\n",
    "\n",
    "$$Número\\ de\\ líneas\\ telefónicas = 9 \\times 10^6$$\n",
    "\n",
    "Siguiendo esta lógica, se pueden crear un total de **9,000,000** líneas telefónicas. Implementando la lógica en python se ve de esta manera: "
   ]
  },
  {
   "cell_type": "code",
   "execution_count": 12,
   "metadata": {},
   "outputs": [
    {
     "name": "stdout",
     "output_type": "stream",
     "text": [
      "El número total de líneas telefónicas posibles es: 9000000.0\n"
     ]
    }
   ],
   "source": [
    "primer_digito = 9 # Primer digito (1 al 9)\n",
    "digitos_restantes = 10 # Digitos restantes (0 al 9)\n",
    "\n",
    "lineas_telefonicas = primer_digito * math.pow(digitos_restantes, 6)\n",
    "\n",
    "print(\"El número total de líneas telefónicas posibles es:\", lineas_telefonicas)\n"
   ]
  },
  {
   "cell_type": "markdown",
   "metadata": {},
   "source": [
    "<font size=\"4\"> **b)** Si los tres primeros dígitos representan una zona de Cuernavaca, ¿cuántas líneas telefónicas pertenecen a la zona 326? </font>\n",
    "\n",
    "Para calcular el número de líneas telefónicas en la zona 326, necesitamos considerar lo siguiente:\n",
    "\n",
    "- Hay dígitos fijos: Los números telefónicos de la zona 326 de Cuernavaca comienzan con los dígitos 3, 2 y 6. Estos tres primeros dígitos no pueden variar.\n",
    "- Hay dígitos variables: Los últimos cuatro dígitos pueden ser cualquier número del 0 al 9, lo que nos da 10 opciones para cada uno de ellos.\n",
    "\n",
    "Para determinar cuántas líneas telefónicas pertenecen a la zona 326, calculamos las combinaciones posibles de los últimos cuatro dígitos:\n",
    "\n",
    "$$Número\\ de\\ líneas = 1 \\times 10 \\times 10 \\times 10 \\times 10 = 10^4$$\n",
    "\n",
    "Al realizar este cálculo, obtenemos:\n",
    "\n",
    "$$Número\\ de\\ líneas = 10,000$$\n",
    "\n",
    "Asi que en la zona 326 de Cuernavaca, se pueden crear un total de **10,000** líneas telefónicas. Al igual, implementemos esa logica en python:"
   ]
  },
  {
   "cell_type": "code",
   "execution_count": 10,
   "metadata": {},
   "outputs": [
    {
     "name": "stdout",
     "output_type": "stream",
     "text": [
      "b) El número de líneas telefónicas que se pueden crear en la zona 326 es: 10000.0\n"
     ]
    }
   ],
   "source": [
    "digitos_fijos = 1  # Los primeros tres dígitos están fijos, por lo que solo hay una opción\n",
    "digitos_variables = 10  # Opciones para cada uno de los últimos cuatro dígitos (0-9)\n",
    "\n",
    "lineas_zona_326 = digitos_fijos * math.pow(digitos_variables, 4)\n",
    "\n",
    "print(\"b) El número de líneas telefónicas que se pueden crear en la zona 326 es:\", lineas_zona_326)\n"
   ]
  },
  {
   "cell_type": "markdown",
   "metadata": {},
   "source": [
    "## 10. Se tiene la palabra MURCIÉLAGO. \n",
    "- ## Si no se permiten repeticiones al usar las letras que la forman, determina:\n"
   ]
  },
  {
   "cell_type": "markdown",
   "metadata": {},
   "source": [
    "<font size=\"4\"> **a)** El número de palabras que puedes crear.</font>\n",
    "\n",
    "Imaginemos que tenemos 10 espacios en blanco para formar una palabra. \n",
    "\n",
    "En el primer espacio, podemos colocar cualquiera de las 10 letras disponibles. Para el segundo espacio, solo nos quedan 9 letras, ya que no puedes repetir la que ya usamos. En el tercer espacio, tendremos 8 opciones, y así sucesivamente.\n",
    "\n",
    "Enotnces se puede decir que el número total de palabras posibles se obtiene multiplicando el número de opciones para cada espacio:\n",
    "\n",
    "$$10\\ opciones \\times 9\\ opciones \\times 8\\ opciones \\times ... \\times 2\\ opciones \\times 1\\ opción$$\n",
    "\n",
    "A esta operación matemática se le conoce como factorial y se denota con el símbolo \"!\". En este caso, sería $10!$ (factorial de 10).\n",
    "\n",
    "Asi obtenemos que el factorial de 10 es:\n",
    "\n",
    "$$10! = 3,628,800$$\n",
    "\n",
    "Siguiendo la misma lógica en python podemos crear el siguiente codigo:"
   ]
  },
  {
   "cell_type": "code",
   "execution_count": 11,
   "metadata": {},
   "outputs": [
    {
     "name": "stdout",
     "output_type": "stream",
     "text": [
      "El número total de palabras posibles es: 3628800\n"
     ]
    }
   ],
   "source": [
    "n_letras = 10  # Número de letras distintas\n",
    "total_palabras = math.factorial(n_letras)\n",
    "\n",
    "print(\"El número total de palabras posibles es:\", total_palabras)\n"
   ]
  },
  {
   "cell_type": "markdown",
   "metadata": {},
   "source": [
    "<font size=\"4\"> **b)** El número de palabras con cinco letras.</font>\n",
    "\n",
    "Siguiendo la misma lógica que en el anterior, podemos visualizar 5 espacios en blanco para formar palabras de cinco letras. \n",
    "\n",
    "En el primer espacio, tenemos 10 opciones de letras. En el segundo, nos quedan 9 opciones, y así hasta el quinto espacio.\n",
    "\n",
    "El número total de palabras de cinco letras se calcula multiplicando el número de opciones para cada espacio:\n",
    "\n",
    "$$10\\ opciones \\times 9\\ opciones \\times 8\\ opciones \\times 7\\ opciones \\times 6\\ opciones = 30,240$$\n",
    "\n",
    "Por lo tanto, podemos formar un total de 30,240 palabras diferentes de cinco letras utilizando 10 letras distintas sin repetirlas.\n",
    "\n",
    "Para mejorar la lógica del un código que escribiremos en python para resolver este inciso, podemos utilizar una fórmula matemática.\n",
    "\n",
    "La fórmula para calcular las permutaciones es:\n",
    "\n",
    "$$ P(n,k) = \\dfrac{n!}{(n-k)!}$$\n",
    "\n",
    "En donde:\n",
    "- 𝑛 es el número total de letras disponibles (10 en este caso) \n",
    "- 𝑘 es el número de letras en cada palabra (5 en este caso). \n",
    "\n",
    "Reemplazando los valores en nuestra formula quedaria de la siguiente manera: \n",
    "\n",
    "$$ P(10,5) = \\dfrac{10!}{(10-5)!}$$\n",
    "\n",
    "Asi que esto se puede calcular de manera más eficiente usando la función math.perm en Python con el siguiente codigo:"
   ]
  },
  {
   "cell_type": "code",
   "execution_count": 14,
   "metadata": {},
   "outputs": [
    {
     "name": "stdout",
     "output_type": "stream",
     "text": [
      "El número total de palabras de cinco letras es: 30240\n"
     ]
    }
   ],
   "source": [
    "n_letras = 10  # Número total de letras distintas\n",
    "k_letras = 5   # Número de letras en cada palabra\n",
    "\n",
    "# Calculamos el número de permutaciones de 10 letras tomando de 5 en 5\n",
    "total_palabras = math.perm(n_letras, k_letras)\n",
    "\n",
    "print(\"El número total de palabras de cinco letras es:\", total_palabras)\n"
   ]
  },
  {
   "cell_type": "markdown",
   "metadata": {},
   "source": [
    "<font size=\"4\"> **c)** La probabilidad de que una palabra de cinco letras termine en vocal.</font>\n",
    "\n",
    "Para calcular la probabilidad de que una palabra de cinco letras termine en vocal tenemos que considerar que tenemos 5 vocales (A, E, I, O, U) en la palabra MURCIELAGO y tambien tenermos 5 consonantes en la palabra MURCIÉLAGO: M, R, C, L, G.\n",
    "\n",
    "En el apartado anterior, calculamos que hay 30,240 palabras posibles de cinco letras con estas 10 letras distintas.\n",
    "\n",
    "Para calcular la probabilidad tenemos que tener 2 cosas:\n",
    "\n",
    "    1. Casos favorables\n",
    "    2. Casos totales \n",
    "\n",
    "1. Los casos favorables:\n",
    "\n",
    "- Para que una palabra termine en vocal, tenemos 5 opciones para la última letra.\n",
    "- Las cuatro letras restantes se pueden elegir y ordenar de $P(9,4)$ maneras, que son las permutaciones de 9 elementos tomando de 4 en 4.\n",
    "\n",
    "2. Casos totales:\n",
    "\n",
    "- El número total de palabras de cinco letras es $P(10,5)$, que son las permutaciones de 10 elementos tomando de 5 en 5.\n",
    "\n",
    "\n",
    "La probabilidad de que una palabra termine en vocal se calcula como:\n",
    "$$Probabilidad = \\frac{Casos\\ favorables}{Casos\\ totales}$$\n",
    "\n",
    "Sustituyendo los valores en la formula quedaria de la siguiente forma:\n",
    "\n",
    "$$Probabilidad = \\frac{5 \\times P(9,4)}{P(10,5)} = 0.5 = 50\\%$$\n",
    "\n",
    "Por lo tanto, la probabilidad de que una palabra de cinco letras termine en vocal es un 50%.\n",
    "\n",
    "Ahora implementemos la logica en python, quedaria de la siguiente manera:"
   ]
  },
  {
   "cell_type": "code",
   "execution_count": 17,
   "metadata": {},
   "outputs": [
    {
     "name": "stdout",
     "output_type": "stream",
     "text": [
      "La probabilidad de que una palabra de cinco letras termine en vocal es: 50.0 %\n"
     ]
    }
   ],
   "source": [
    "n_vocales = 5 # Número de vocales disponibles\n",
    "\n",
    "total_letras = 10 # Número total de letras disponibles\n",
    "\n",
    "letras_por_palabra = 5 # Número de letras en cada palabra\n",
    "\n",
    "letras_restantes = total_letras - 1 # Número de letras restantes después de seleccionar una vocal para la última posición\n",
    "\n",
    "# Permutaciones de 9 letras tomadas de 4 en 4 (para las 4 letras restantes después de elegir la vocal)\n",
    "casos_favorables = n_vocales * math.perm(letras_restantes, letras_por_palabra - 1)\n",
    "\n",
    "# Permutaciones de 10 letras tomadas de 5 en 5 (total de palabras de 5 letras)\n",
    "casos_totales = math.perm(total_letras, letras_por_palabra)\n",
    "\n",
    "# Cálculo de la probabilidad\n",
    "probabilidad = casos_favorables / casos_totales\n",
    "\n",
    "print(\"La probabilidad de que una palabra de cinco letras termine en vocal es:\", probabilidad*100,\"%\") \n"
   ]
  }
 ],
 "metadata": {
  "kernelspec": {
   "display_name": "Python 3",
   "language": "python",
   "name": "python3"
  },
  "language_info": {
   "codemirror_mode": {
    "name": "ipython",
    "version": 3
   },
   "file_extension": ".py",
   "mimetype": "text/x-python",
   "name": "python",
   "nbconvert_exporter": "python",
   "pygments_lexer": "ipython3",
   "version": "3.12.4"
  }
 },
 "nbformat": 4,
 "nbformat_minor": 2
}
