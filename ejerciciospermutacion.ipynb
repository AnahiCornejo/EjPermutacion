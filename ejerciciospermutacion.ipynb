{
 "cells": [
  {
   "cell_type": "code",
   "execution_count": 55,
   "metadata": {},
   "outputs": [],
   "source": [
    "import math as math"
   ]
  },
  {
   "cell_type": "markdown",
   "metadata": {},
   "source": [
    "## 9. Los números telefónicos en la ciudad de Cuernavaca, Morelos, constan de siete dígitos."
   ]
  },
  {
   "cell_type": "markdown",
   "metadata": {},
   "source": [
    "<font size=\"4\"> **a)** ¿Cuántas líneas telefónicas pueden crearse en esa ciudad? Recuerda que no pueden comenzar con cero.</font>\n",
    "\n",
    "\n",
    "Para calcular el número posible de líneas telefónicas en Cuernavaca, Morelos necesitamos considerar lo siguiente:\n",
    "\n",
    "- Cada número telefónico consta de siete dígitos.\n",
    "- El primer dígito no puede ser cero.\n",
    "- Los seis dígitos restantes pueden ser cualquier número del 0 al 9.\n",
    "\n",
    "Asi que para poder determinar el número total de líneas telefónicas que podemos crear, debemos analizar las posibilidades para cada dígito:\n",
    "\n",
    "- Primer dígito: Tenemos 9 opciones (del 1 al 9).\n",
    "\n",
    "- Dígitos restantes: Para cada uno de los seis dígitos restantes, tenemos 10 opciones (del 0 al 9).\n",
    "\n",
    "Por lo tanto el número total de líneas telefónicas se calcula multiplicando el número de posibilidades para cada dígito:\n",
    "\n",
    "$$Número\\ de\\ líneas\\ telefónicas = 9 \\times 10^6$$\n",
    "\n",
    "Siguiendo esta lógica, se pueden crear un total de **9,000,000** líneas telefónicas. Implementando la lógica en python se ve de esta manera: "
   ]
  },
  {
   "cell_type": "code",
   "execution_count": 56,
   "metadata": {},
   "outputs": [
    {
     "name": "stdout",
     "output_type": "stream",
     "text": [
      "El número total de líneas telefónicas posibles es: 9000000.0\n"
     ]
    }
   ],
   "source": [
    "primer_digito = 9 # Primer digito (1 al 9)\n",
    "digitos_restantes = 10 # Digitos restantes (0 al 9)\n",
    "\n",
    "lineas_telefonicas = primer_digito * math.pow(digitos_restantes, 6)\n",
    "\n",
    "print(\"El número total de líneas telefónicas posibles es:\", lineas_telefonicas)\n"
   ]
  },
  {
   "cell_type": "markdown",
   "metadata": {},
   "source": [
    "<font size=\"4\"> **b)** Si los tres primeros dígitos representan una zona de Cuernavaca, ¿cuántas líneas telefónicas pertenecen a la zona 326? </font>\n",
    "\n",
    "Para calcular el número de líneas telefónicas en la zona 326, necesitamos considerar lo siguiente:\n",
    "\n",
    "- Hay dígitos fijos: Los números telefónicos de la zona 326 de Cuernavaca comienzan con los dígitos 3, 2 y 6. Estos tres primeros dígitos no pueden variar.\n",
    "- Hay dígitos variables: Los últimos cuatro dígitos pueden ser cualquier número del 0 al 9, lo que nos da 10 opciones para cada uno de ellos.\n",
    "\n",
    "Para determinar cuántas líneas telefónicas pertenecen a la zona 326, calculamos las combinaciones posibles de los últimos cuatro dígitos:\n",
    "\n",
    "$$Número\\ de\\ líneas = 1 \\times 10 \\times 10 \\times 10 \\times 10 = 10^4$$\n",
    "\n",
    "Al realizar este cálculo, obtenemos:\n",
    "\n",
    "$$Número\\ de\\ líneas = 10,000$$\n",
    "\n",
    "Asi que en la zona 326 de Cuernavaca, se pueden crear un total de **10,000** líneas telefónicas. Al igual, implementemos esa logica en python:"
   ]
  },
  {
   "cell_type": "code",
   "execution_count": 57,
   "metadata": {},
   "outputs": [
    {
     "name": "stdout",
     "output_type": "stream",
     "text": [
      "b) El número de líneas telefónicas que se pueden crear en la zona 326 es: 10000.0\n"
     ]
    }
   ],
   "source": [
    "digitos_fijos = 1  # Los primeros tres dígitos están fijos, por lo que solo hay una opción\n",
    "digitos_variables = 10  # Opciones para cada uno de los últimos cuatro dígitos (0-9)\n",
    "\n",
    "lineas_zona_326 = digitos_fijos * math.pow(digitos_variables, 4)\n",
    "\n",
    "print(\"b) El número de líneas telefónicas que se pueden crear en la zona 326 es:\", lineas_zona_326)\n"
   ]
  },
  {
   "cell_type": "markdown",
   "metadata": {},
   "source": [
    "## 10. Se tiene la palabra MURCIÉLAGO. \n",
    "- ## Si no se permiten repeticiones al usar las letras que la forman, determina:\n"
   ]
  },
  {
   "cell_type": "markdown",
   "metadata": {},
   "source": [
    "<font size=\"4\"> **a)** El número de palabras que puedes crear.</font>\n",
    "\n",
    "Imaginemos que tenemos 10 espacios en blanco para formar una palabra. \n",
    "\n",
    "En el primer espacio, podemos colocar cualquiera de las 10 letras disponibles. Para el segundo espacio, solo nos quedan 9 letras, ya que no puedes repetir la que ya usamos. En el tercer espacio, tendremos 8 opciones, y así sucesivamente.\n",
    "\n",
    "Enotnces se puede decir que el número total de palabras posibles se obtiene multiplicando el número de opciones para cada espacio:\n",
    "\n",
    "$$10\\ opciones \\times 9\\ opciones \\times 8\\ opciones \\times ... \\times 2\\ opciones \\times 1\\ opción$$\n",
    "\n",
    "A esta operación matemática se le conoce como factorial y se denota con el símbolo \"!\". En este caso, sería $10!$ (factorial de 10).\n",
    "\n",
    "Asi obtenemos que el factorial de 10 es:\n",
    "\n",
    "$$10! = 3,628,800$$\n",
    "\n",
    "Siguiendo la misma lógica en python podemos crear el siguiente codigo:"
   ]
  },
  {
   "cell_type": "code",
   "execution_count": 58,
   "metadata": {},
   "outputs": [
    {
     "name": "stdout",
     "output_type": "stream",
     "text": [
      "El número total de palabras posibles es: 3628800\n"
     ]
    }
   ],
   "source": [
    "n_letras = 10  # Número de letras distintas\n",
    "total_palabras = math.factorial(n_letras)\n",
    "\n",
    "print(\"El número total de palabras posibles es:\", total_palabras)\n"
   ]
  },
  {
   "cell_type": "markdown",
   "metadata": {},
   "source": [
    "<font size=\"4\"> **b)** El número de palabras con cinco letras.</font>\n",
    "\n",
    "Siguiendo la misma lógica que en el anterior, podemos visualizar 5 espacios en blanco para formar palabras de cinco letras. \n",
    "\n",
    "En el primer espacio, tenemos 10 opciones de letras. En el segundo, nos quedan 9 opciones, y así hasta el quinto espacio.\n",
    "\n",
    "El número total de palabras de cinco letras se calcula multiplicando el número de opciones para cada espacio:\n",
    "\n",
    "$$10\\ opciones \\times 9\\ opciones \\times 8\\ opciones \\times 7\\ opciones \\times 6\\ opciones = 30,240$$\n",
    "\n",
    "Por lo tanto, podemos formar un total de 30,240 palabras diferentes de cinco letras utilizando 10 letras distintas sin repetirlas.\n",
    "\n",
    "Para mejorar la lógica del un código que escribiremos en python para resolver este inciso, podemos utilizar una fórmula matemática.\n",
    "\n",
    "La fórmula para calcular las permutaciones es:\n",
    "\n",
    "$$ P(n,k) = \\dfrac{n!}{(n-k)!}$$\n",
    "\n",
    "En donde:\n",
    "- 𝑛 es el número total de letras disponibles (10 en este caso) \n",
    "- 𝑘 es el número de letras en cada palabra (5 en este caso). \n",
    "\n",
    "Reemplazando los valores en nuestra formula quedaria de la siguiente manera: \n",
    "\n",
    "$$ P(10,5) = \\dfrac{10!}{(10-5)!}$$\n",
    "\n",
    "Asi que esto se puede calcular de manera más eficiente usando la función math.perm en Python con el siguiente codigo:"
   ]
  },
  {
   "cell_type": "code",
   "execution_count": 59,
   "metadata": {},
   "outputs": [
    {
     "name": "stdout",
     "output_type": "stream",
     "text": [
      "El número total de palabras de cinco letras es: 30240\n"
     ]
    }
   ],
   "source": [
    "n_letras = 10  # Número total de letras distintas\n",
    "k_letras = 5   # Número de letras en cada palabra\n",
    "\n",
    "# Calculamos el número de permutaciones de 10 letras tomando de 5 en 5\n",
    "total_palabras = math.perm(n_letras, k_letras)\n",
    "\n",
    "print(\"El número total de palabras de cinco letras es:\", total_palabras)\n"
   ]
  },
  {
   "cell_type": "markdown",
   "metadata": {},
   "source": [
    "<font size=\"4\"> **c)** La probabilidad de que una palabra de cinco letras termine en vocal.</font>\n",
    "\n",
    "Para calcular la probabilidad de que una palabra de cinco letras termine en vocal tenemos que considerar que tenemos 5 vocales (A, E, I, O, U) en la palabra MURCIELAGO y tambien tenermos 5 consonantes en la palabra MURCIÉLAGO: M, R, C, L, G.\n",
    "\n",
    "En el apartado anterior, calculamos que hay 30,240 palabras posibles de cinco letras con estas 10 letras distintas.\n",
    "\n",
    "Para calcular la probabilidad tenemos que tener 2 cosas:\n",
    "\n",
    "    1. Casos favorables\n",
    "    2. Casos totales \n",
    "\n",
    "1. Los casos favorables:\n",
    "\n",
    "- Para que una palabra termine en vocal, tenemos 5 opciones para la última letra.\n",
    "- Las cuatro letras restantes se pueden elegir y ordenar de $P(9,4)$ maneras, que son las permutaciones de 9 elementos tomando de 4 en 4.\n",
    "\n",
    "2. Casos totales:\n",
    "\n",
    "- El número total de palabras de cinco letras es $P(10,5)$, que son las permutaciones de 10 elementos tomando de 5 en 5.\n",
    "\n",
    "\n",
    "La probabilidad de que una palabra termine en vocal se calcula como:\n",
    "$$Probabilidad = \\frac{Casos\\ favorables}{Casos\\ totales}$$\n",
    "\n",
    "Sustituyendo los valores en la formula quedaria de la siguiente forma:\n",
    "\n",
    "$$Probabilidad = \\frac{5 \\times P(9,4)}{P(10,5)} = 0.5 = 50\\%$$\n",
    "\n",
    "Por lo tanto, la probabilidad de que una palabra de cinco letras termine en vocal es un 50%.\n",
    "\n",
    "Ahora implementemos la logica en python, quedaria de la siguiente manera:"
   ]
  },
  {
   "cell_type": "code",
   "execution_count": 60,
   "metadata": {},
   "outputs": [
    {
     "name": "stdout",
     "output_type": "stream",
     "text": [
      "La probabilidad de que una palabra de cinco letras termine en vocal es: 50.0 %\n"
     ]
    }
   ],
   "source": [
    "n_vocales = 5 # Número de vocales disponibles\n",
    "\n",
    "total_letras = 10 # Número total de letras disponibles\n",
    "\n",
    "letras_por_palabra = 5 # Número de letras en cada palabra\n",
    "\n",
    "letras_restantes = total_letras - 1 # Número de letras restantes después de seleccionar una vocal para la última posición\n",
    "\n",
    "# Permutaciones de 9 letras tomadas de 4 en 4 (para las 4 letras restantes después de elegir la vocal)\n",
    "casos_favorables = n_vocales * math.perm(letras_restantes, letras_por_palabra - 1)\n",
    "\n",
    "# Permutaciones de 10 letras tomadas de 5 en 5 (total de palabras de 5 letras)\n",
    "casos_totales = math.perm(total_letras, letras_por_palabra)\n",
    "\n",
    "# Cálculo de la probabilidad\n",
    "probabilidad = casos_favorables / casos_totales\n",
    "\n",
    "print(\"La probabilidad de que una palabra de cinco letras termine en vocal es:\", probabilidad*100,\"%\") \n"
   ]
  },
  {
   "cell_type": "markdown",
   "metadata": {},
   "source": [
    "## 16.  En un grupo de 25 alumnos hay 13 chicas y 12 chicos. Se desean formar equipos de trabajo para realizar una investigación:\n"
   ]
  },
  {
   "cell_type": "markdown",
   "metadata": {},
   "source": [
    "<font size=\"4\"> **a)** ¿Cuántos equipos de cinco personas pueden formarse?</font>\n",
    "\n",
    "Para saber cuántos equipos de cinco personas pueden formarse a partir de un grupo de 25 alumnos, utilizaremos el concepto de combinaciones. \n",
    "\n",
    "Asi que para empezar en combinatoria, una combinación es una selección de elementos sin importar cual sea su orden.\n",
    "\n",
    "La fórmula para calcular combinaciones es:\n",
    "\n",
    "$$C(n,k) = \\frac{n!}{k!(n-k)!}$$\n",
    "\n",
    "donde:\n",
    "- 𝑛 es el número total de elementos \n",
    "- 𝑘 es el número de elementos a seleccionar.\n",
    "\n",
    "En este caso\n",
    "- 𝑛=25 \n",
    "- 𝑘=5\n",
    "\n",
    "Si sustituimos estos valores en la fórmula, tenemos:\n",
    "\n",
    "$$C(25,5) = \\frac{25!}{5! (25-5)!} = \\frac{25!}{5! \\cdot 20!}$$\n",
    "\n",
    "Podemos simplificar esto usando la propiedad de los factoriales:\n",
    "\n",
    "$$C(25,5) = \\frac{25 \\times 24 \\times 23 \\times 22 \\times 21}{5 \\times 4 \\times 3 \\times 2 \\times 1}$$\n",
    "\n",
    "Calculamos el numerador y el denominador por separado:\n",
    "\n",
    "$$25 \\times 24 \\times 23 \\times 22 \\times 21 = 6,\\!375,\\!600$$\n",
    "$$5 \\times 4 \\times 3 \\times 2 \\times 1 = 120$$\n",
    "\n",
    "Y al final, dividimos el numerador entre el denominador:\n",
    "\n",
    "$$C(25,5) = \\frac{6,\\!375,\\!600}{120} = 53,\\!130$$\n",
    "\n",
    "Por lo tanto, el número de equipos de cinco personas que pueden formarse es: $53130$\n",
    "​\n",
    "\n",
    "\n",
    "\n"
   ]
  },
  {
   "cell_type": "code",
   "execution_count": 61,
   "metadata": {},
   "outputs": [
    {
     "name": "stdout",
     "output_type": "stream",
     "text": [
      "El número de equipos de cinco personas que se pueden formar es: 53130\n"
     ]
    }
   ],
   "source": [
    "# Definimos los valores\n",
    "n = 25\n",
    "k = 5\n",
    "\n",
    "# Calculamos las combinaciones usando la función comb de la biblioteca math\n",
    "combinaciones = math.comb(n, k)\n",
    "\n",
    "# Mostramos el resultado\n",
    "print(f\"El número de equipos de cinco personas que se pueden formar es: {combinaciones}\")\n"
   ]
  },
  {
   "cell_type": "markdown",
   "metadata": {},
   "source": [
    "<font size=\"4\"> **b)** ¿Cuántos equipos pueden formarse si debe haber una chica?</font>\n",
    "\n",
    "Para calcular el número de equipos de cinco personas que deben incluir al menos una chica.\n",
    "\n",
    "Primero, calculamos el número total de equipos posibles sin restricciones y luego restamos el número de equipos que no incluyen chicas.\n",
    "\n",
    "1. Total de equipos posibles (sin restricciones):\n",
    "    - Ya calculamos que hay $C(25,5)=53130$ equipos posibles.\n",
    "\n",
    "2. Total de equipos sin chicas:\n",
    "    - Hay 12 chicos. El número de equipos de cinco personas formados solo por chicos es $C(12,5)$.\n",
    "\n",
    "Utilizamos la fórmula de combinaciones para calcular $C(12,5)$:\n",
    "\n",
    "$$C(12,5) = \\frac{12!}{5! (12-5)!} = \\frac{12!}{5! \\cdot 7!}$$\n",
    "\n",
    "Simplificamos esto usando la propiedad de los factoriales:\n",
    "\n",
    "$$C(12,5) = \\frac{12 \\times 11 \\times 10 \\times 9 \\times 8}{5 \\times 4 \\times 3 \\times 2 \\times 1}$$\n",
    "\n",
    "Calculamos el numerador y el denominador por separado:\n",
    "\n",
    "$$12 \\times 11 \\times 10 \\times 9 \\times 8 = 95,040$$\n",
    "$$5 \\times 4 \\times 3 \\times 2 \\times 1 = 120$$\n",
    "\n",
    "Dividimos el numerador entre el denominador:\n",
    "\n",
    "$$C(12,5) = \\frac{95,040}{120} = 792$$\n",
    "\n",
    "Entonces, hay 792 equipos de cinco personas formados solo por chicos.\n",
    "\n",
    "Ahora calculemos los equipos con al menos una chica:\n",
    "\n",
    "Solo hay que restar el número de equipos sin chicas del total de equipos posibles:\n",
    "\n",
    "$$53130−792=52338$$\n",
    "\n",
    "Por lo tanto, el número de equipos de cinco personas que incluyen al menos una chica es: $52338$\n",
    "​\n"
   ]
  },
  {
   "cell_type": "code",
   "execution_count": 62,
   "metadata": {},
   "outputs": [
    {
     "name": "stdout",
     "output_type": "stream",
     "text": [
      "El número de equipos de cinco personas que se pueden formar con al menos una chica es: 52338\n"
     ]
    }
   ],
   "source": [
    "# Definimos los valores\n",
    "total_alumnos = 25\n",
    "total_chicos = 12\n",
    "tamaño_equipo = 5\n",
    "\n",
    "# Calculamos el número total de combinaciones posibles\n",
    "total_combinaciones = math.comb(total_alumnos, tamaño_equipo)\n",
    "\n",
    "# Calculamos el número de combinaciones solo con chicos\n",
    "combinaciones_sin_chicas = math.comb(total_chicos, tamaño_equipo)\n",
    "\n",
    "# Calculamos el número de combinaciones con al menos una chica\n",
    "combinaciones_con_chicas = total_combinaciones - combinaciones_sin_chicas\n",
    "\n",
    "# Mostramos el resultado\n",
    "print(f\"El número de equipos de cinco personas que se pueden formar con al menos una chica es: {combinaciones_con_chicas}\")\n"
   ]
  },
  {
   "cell_type": "markdown",
   "metadata": {},
   "source": [
    "<font size=\"4\"> **c)** ¿Cuántos equipos pueden formarse si debe haber dos chicas?</font>\n",
    "\n",
    "Para calcular el número de equipos de cinco personas que deben incluir exactamente dos chicas, podemos dividir el problema en dos partes:\n",
    "\n",
    "- Seleccionamos 2 chicas de las 13 disponibles.\n",
    "- Seleccionamos 3 chicos de los 12 restantes.\n",
    "\n",
    "Utilizamos la fórmula de combinaciones para cada parte y luego multiplicamos los resultados:\n",
    "\n",
    "$$C(13,2) \\times C(12,3)$$\n",
    "\n",
    "Vamos a calcular cada parte por separado:\n",
    "\n",
    "1. Seleccionar 2 chicas de 13:\n",
    "\n",
    "$$C(13,2) = \\frac{13!}{2! (13-2)!} = \\frac{13!}{2! \\cdot 11!}$$\n",
    "\n",
    "- Simplificamos usando la propiedad de los factoriales:\n",
    "\n",
    "$$C(13,2) = \\frac{13 \\times 12}{2 \\times 1} = 78$$\n",
    "\n",
    "2. Seleccionar 3 chicos de 12:\n",
    "\n",
    "$$C(12,3) = \\frac{12!}{3! (12-3)!} = \\frac{12!}{3! \\cdot 9!}$$\n",
    "\n",
    "- Simplificamos usando la propiedad de los factoriales:\n",
    "\n",
    "$$C(12,3) = \\frac{12 \\times 11 \\times 10}{3 \\times 2 \\times 1} = 220$$\n",
    "\n",
    "Finalmente para terminar, multiplicamos los resultados para obtener el número total de equipos con exactamente dos chicas:\n",
    "\n",
    "$$78×220=17160$$\n",
    "\n",
    "Por lo tanto, el número de equipos de cinco personas que se pueden formar con exactamente dos chicas es: $17,160$\n",
    "\n",
    "El codigo en python que resuelve este problema es el siguiente:"
   ]
  },
  {
   "cell_type": "code",
   "execution_count": 63,
   "metadata": {},
   "outputs": [
    {
     "name": "stdout",
     "output_type": "stream",
     "text": [
      "El número de equipos de cinco personas que se pueden formar con exactamente dos chicas es: 17160\n"
     ]
    }
   ],
   "source": [
    "# Definimos los valores\n",
    "total_chicas = 13\n",
    "total_chicos = 12\n",
    "chicas_a_seleccionar = 2\n",
    "chicos_a_seleccionar = 3\n",
    "\n",
    "# Calculamos el número de maneras de seleccionar dos chicas de 13\n",
    "combinaciones_dos_chicas = math.comb(total_chicas, chicas_a_seleccionar)\n",
    "\n",
    "# Calculamos el número de maneras de seleccionar tres chicos de 12\n",
    "combinaciones_tres_chicos = math.comb(total_chicos, chicos_a_seleccionar)\n",
    "\n",
    "# Calculamos el número total de combinaciones con exactamente dos chicas\n",
    "combinaciones_dos_chicas_exactamente = combinaciones_dos_chicas * combinaciones_tres_chicos\n",
    "\n",
    "# Mostramos el resultado\n",
    "print(f\"El número de equipos de cinco personas que se pueden formar con exactamente dos chicas es: {combinaciones_dos_chicas_exactamente}\")\n"
   ]
  },
  {
   "cell_type": "markdown",
   "metadata": {},
   "source": [
    "<font size=\"4\"> **d)** Determina las probabilidades correspondientes a los incisos anteriores.</font>\n",
    "\n",
    "Para determinar las probabilidades, primero necesitamos conocer el número total de equipos posibles y luego usarlo para calcular las probabilidades para cada caso.\n",
    "\n",
    "Como ya sabemos que el número total de equipos de cinco personas que se pueden formar es 53,130. \n",
    "\n",
    "Utilizaremos este número para calcular las probabilidades.\n",
    "\n",
    "**Inciso (a)**\n",
    "\n",
    "Probabilidad de formar un equipo de cinco personas (sin restricciones):\n",
    "\n",
    "Este es el caso más simple, ya que estamos considerando todos los equipos posibles.\n",
    "\n",
    "$$P(equipo sin restricciones)=1$$\n",
    "\n",
    "La probabilidade de formar un equipo de cinco personas es del $100\\%$\n",
    "\n",
    "**Inciso (b)**\n",
    "\n",
    "Probabilidad de formar un equipo de cinco personas con al menos una chica:\n",
    "\n",
    "Sabemos que hay 52,338 equipos posibles que incluyen al menos una chica.\n",
    "\n",
    "La probabilidad es:\n",
    "\n",
    "$$P(\\text{al menos una chica}) = \\frac{53,\\!130 - 792}{53,\\!130} = \\frac{52,\\!338}{53,\\!130}$$\n",
    "\n",
    "La probabilidad de formar un equipo de cinco personas con al menos una chica es de:  $98.5\\%$\n",
    "\n",
    "**Inciso (c)**\n",
    "\n",
    "Probabilidad de formar un equipo de cinco personas con exactamente dos chicas:\n",
    "\n",
    "Sabemos que hay 17,160 equipos posibles con exactamente dos chicas.\n",
    "\n",
    "La probabilidad es:\n",
    "\n",
    "$$P(\\text{exactamente dos chicas}) = \\frac{17,\\!160}{53,\\!130} = \\frac{17,\\!160}{53,\\!130}$$\n",
    "\n",
    "La probabilidad de formar un equipo de cinco personas con exactamente dos chicas es de: $32.2\\%$\n",
    "\n",
    "Solo queda mostrar como calcular estas probabilidades con una mejor precisión utilizando python:"
   ]
  },
  {
   "cell_type": "code",
   "execution_count": 64,
   "metadata": {},
   "outputs": [
    {
     "name": "stdout",
     "output_type": "stream",
     "text": [
      "Probabilidad de formar un equipo de cinco personas (sin restricciones): 1.0000 (100.0%)\n",
      "Probabilidad de formar un equipo de cinco personas con al menos una chica: 0.9851 (98.5093%)\n",
      "Probabilidad de formar un equipo de cinco personas con exactamente dos chicas: 0.3230 (32.2981%)\n"
     ]
    }
   ],
   "source": [
    "# Calculamos el número total de combinaciones posibles\n",
    "total_combinaciones = math.comb(total_alumnos, tamaño_equipo)\n",
    "\n",
    "# Calculamos el número de combinaciones con al menos una chica\n",
    "# Primero calculamos el número de combinaciones sin chicas\n",
    "combinaciones_sin_chicas = math.comb(total_chicos, tamaño_equipo)\n",
    "# Luego restamos estas combinaciones del total\n",
    "combinaciones_con_al_menos_una_chica = total_combinaciones - combinaciones_sin_chicas\n",
    "\n",
    "# Calculamos el número de combinaciones con exactamente dos chicas\n",
    "combinaciones_dos_chicas = math.comb(total_chicas, 2) * math.comb(total_chicos, 3)\n",
    "\n",
    "# Cálculo de probabilidades\n",
    "probabilidad_total = total_combinaciones / total_combinaciones\n",
    "probabilidad_al_menos_una_chica = combinaciones_con_al_menos_una_chica / total_combinaciones\n",
    "probabilidad_dos_chicas_exactamente = combinaciones_dos_chicas / total_combinaciones\n",
    "\n",
    "# Mostrar resultados\n",
    "print(f\"Probabilidad de formar un equipo de cinco personas (sin restricciones): {probabilidad_total:.4f} ({probabilidad_total*100}%)\")\n",
    "print(f\"Probabilidad de formar un equipo de cinco personas con al menos una chica: {probabilidad_al_menos_una_chica:.4f} ({probabilidad_al_menos_una_chica*100:.4f}%)\")\n",
    "print(f\"Probabilidad de formar un equipo de cinco personas con exactamente dos chicas: {probabilidad_dos_chicas_exactamente:.4f} ({probabilidad_dos_chicas_exactamente*100:.4f}%)\")\n"
   ]
  },
  {
   "cell_type": "markdown",
   "metadata": {},
   "source": [
    "## 17.  Se tiene una caja con 24 latas y se sabe que dos están contaminadas. Se van a seleccionar tres latas al azar para someterlas a una prueba de control de calidad, es decir, para medir los estándares de calidad de la empresa"
   ]
  },
  {
   "cell_type": "markdown",
   "metadata": {},
   "source": [
    "<font size=\"4\"> **a)** ¿Cuántas combinaciones de tres latas pueden hacerse?</font>\n",
    "\n",
    "Para calcular cuántas combinaciones de tres latas pueden hacerse a partir de una caja con 24 latas, utilizaremos la fórmula de combinaciones. \n",
    "\n",
    "La fórmula para calcular combinaciones es:\n",
    "\n",
    "$$C(n,k) = \\frac{n!}{k!(n-k)!}$$\n",
    "\n",
    "donde:\n",
    "- 𝑛 es el número total de elementos \n",
    "- 𝑘 es el número de elementos a seleccionar.\n",
    "\n",
    "En este caso\n",
    "- 𝑛=24\n",
    "- 𝑘=3\n",
    "\n",
    "Sustituyendo estos valores en la fórmula, tenemos:\n",
    "​\n",
    "$$C(24,3) = \\frac{24!}{3! (24-3)!} = \\frac{24!}{3! \\cdot 21!}$$\n",
    "\n",
    "Podemos simplificar esto usando la propiedad de los factoriales:\n",
    "\n",
    "$$C(24,3) = \\frac{24 \\times 23 \\times 22}{3 \\times 2 \\times 1}$$ \n",
    "\n",
    "Calculamos el numerador y el denominador por separado:\n",
    "\n",
    "$$24 \\times 23 \\times 22 = 12,\\!144$$ \n",
    "$$3 \\times 2 \\times 1 = 6$$\n",
    "\n",
    "Finalmente, dividimos el numerador entre el denominador:\n",
    "\n",
    "$$C(24,3) = \\frac{12,\\!144}{6} = 2,\\!024$$\n",
    "\n",
    "Por lo tanto, el número de combinaciones de tres latas que pueden hacerse es: $2024$\n",
    "\n",
    "El codigo en pyhton es el siguiente:\n",
    "\n"
   ]
  },
  {
   "cell_type": "code",
   "execution_count": 65,
   "metadata": {},
   "outputs": [
    {
     "name": "stdout",
     "output_type": "stream",
     "text": [
      "El número de combinaciones de tres latas que se pueden formar es: 2024\n"
     ]
    }
   ],
   "source": [
    "# Definimos los valores\n",
    "n = 24\n",
    "k = 3\n",
    "\n",
    "# Calculamos las combinaciones usando la función comb de la biblioteca math\n",
    "combinaciones = math.comb(n, k)\n",
    "\n",
    "# Mostramos el resultado\n",
    "print(f\"El número de combinaciones de tres latas que se pueden formar es: {combinaciones}\")\n"
   ]
  },
  {
   "cell_type": "markdown",
   "metadata": {},
   "source": [
    "<font size=\"4\"> **b)** ¿Cuál es la probabilidad de que se seleccione una lata contaminada para la prueba?</font>\n",
    "\n",
    "Para calcular la probabilidad vamos a hacerlo por pasos, primero buscaremos un numero de formas para seleccionar una lata, usaremos el calculo del inciso 1 y despues la probabilidad de seleccionar exactamente una lata contaminada\n",
    "\n",
    "1. Número de formas de seleccionar exactamente una lata contaminada:\n",
    "\n",
    "   - Hay 2 latas contaminadas y 22 latas no contaminadas.\n",
    "   - Necesitamos elegir 1 lata contaminada de las 2 disponibles y 2 latas no contaminadas de las 22 disponibles.\n",
    "\n",
    "\n",
    "   La cantidad de formas de hacer esto es el resultado de la multiplicacion de las combinaciones correspondientes:\n",
    "\n",
    "   \n",
    "   $$C(2,1) \\times C(22, 2)$$\n",
    "   \n",
    "\n",
    "   Calculando cada combinación:\n",
    "\n",
    "   \n",
    "   $$C(2,1) = \\frac{2!}{1!(2-1)!} = 2$$\n",
    "   \n",
    "\n",
    "   \n",
    "   $$C(22,2) = \\frac{22!}{2!(22-2)!} = \\frac{22 \\times 21}{2} = 231$$\n",
    "   \n",
    "\n",
    "   Entonces, el número total de formas de seleccionar exactamente una lata contaminada es:\n",
    "\n",
    "   \n",
    "   $$C(2,1) \\times C(22,2) = 2 \\times 231 = 462$$\n",
    "\n",
    "2. Número total de formas de seleccionar 3 latas de las 24 disponibles:\n",
    "\n",
    "   \n",
    "   $$C(24,3) = \\frac{24!}{3!(24-3)!} = \\frac{24 \\times 23 \\times 22}{3 \\times 2 \\times 1} = 2024$$\n",
    "   \n",
    "\n",
    "3. Probabilidad de seleccionar exactamente una lata contaminada:\n",
    "\n",
    "   La probabilidad se calcula dividiendo el número de formas favorables entre el número total de formas posibles:\n",
    "\n",
    "   \n",
    "   $$P(\\text{exactamente una lata contaminada}) = \\frac{C(2,1) \\times C(22,2)}{C(23,4)} = \\frac{462}{2024} \\approx 0.2282$$\n",
    "\n",
    "Entonces la probabilidad de que exactamente una lata contaminada sea seleccionada en las tres latas elegidas al azar es aproximadamente $0.2282\\ (22.8\\%)$\n"
   ]
  },
  {
   "cell_type": "code",
   "execution_count": 66,
   "metadata": {},
   "outputs": [
    {
     "name": "stdout",
     "output_type": "stream",
     "text": [
      "Probabilidad de seleccionar exactamente una lata contaminada: 22.8261%\n"
     ]
    }
   ],
   "source": [
    "# Número total de latas y número de latas contaminadas\n",
    "total_latas = 24\n",
    "contaminadas = 2\n",
    "\n",
    "# Número de latas no contaminadas\n",
    "no_contaminadas = total_latas - contaminadas\n",
    "\n",
    "# Número de formas de seleccionar exactamente una lata contaminada y dos no contaminadas\n",
    "num_combinaciones_contaminada = math.comb(contaminadas, 1)  # Seleccionar 1 lata contaminada de 2\n",
    "num_combinaciones_no_contaminadas = math.comb(no_contaminadas, 2)  # Seleccionar 2 latas no contaminadas de 22\n",
    "\n",
    "# Número total de formas de seleccionar 3 latas de 24\n",
    "num_total_combinaciones = math.comb(total_latas, 3)\n",
    "\n",
    "# Probabilidad de seleccionar exactamente una lata contaminada\n",
    "probabilidad = (num_combinaciones_contaminada * num_combinaciones_no_contaminadas) / num_total_combinaciones\n",
    "\n",
    "print(f\"Probabilidad de seleccionar exactamente una lata contaminada: {probabilidad*100:.4f}%\")\n"
   ]
  },
  {
   "cell_type": "markdown",
   "metadata": {},
   "source": [
    "\n",
    "<font size=\"4\"> **c)** ¿Cuál es la probabilidad de que se seleccione al menos una lata contaminada para la prueba?</font>\n",
    "\n",
    "Para calcular la probabilidad de que al menos una de las tres latas seleccionadas esté contaminada, primero debemos calcular la probabilidad de que ninguna de las tres latas seleccionadas esté contaminada. \n",
    "\n",
    "Despues, restamos esta probabilidad de 1.\n",
    "\n",
    "Dado que hay 2 latas contaminadas en un total de 24, hay 22 latas no contaminadas.\n",
    "\n",
    "1. Número de maneras de seleccionar 3 latas de las 22 no contaminadas:\n",
    "\n",
    "$$C(22,3) = \\frac{22!}{3! (22-3)!} = \\frac{22!}{3! \\cdot 19!} = \\frac{22 \\times 21 \\times 20}{3 \\times 2 \\times 1} = 1540$$\n",
    "\n",
    "2. Número total de maneras de seleccionar 3 latas de las 24:\n",
    "\n",
    "$$C(24,3) = 2024$$\n",
    "\n",
    "3. Probabilidad de seleccionar solo latas no contaminadas:\n",
    "\n",
    "$$P(\\text{ninguna contaminada}) = \\frac{C(24,3)}{C(22,3)} = \\frac{2024}{1540}$$\n",
    "\n",
    "4. Probabilidad de seleccionar al menos una lata contaminada:\n",
    "\n",
    "$$P(al menos una contaminada)=1−P(ninguna contaminada)=1− \\frac{2024}{1540}$$\n",
    "\n",
    "Calculamos la fracción:\n",
    "\n",
    "\n",
    "$$P(ninguna contaminada)= \\frac{2024}{1540}≈0.7603$$\n",
    "\n",
    "$$P(al menos una contaminada)=1−0.7603=0.2391$$\n",
    "\n",
    "Y asi podemos decir que la probabilidad de que se seleccione al menos una lata contaminada es de: $23.91\\%$​"
   ]
  },
  {
   "cell_type": "code",
   "execution_count": 67,
   "metadata": {},
   "outputs": [
    {
     "name": "stdout",
     "output_type": "stream",
     "text": [
      "La probabilidad de que al menos una lata contaminada sea seleccionada 23.91%\n"
     ]
    }
   ],
   "source": [
    "# Número total de latas y número de latas contaminadas\n",
    "total_latas = 24\n",
    "latas_contaminadas = 2\n",
    "latas_no_contaminadas = total_latas - latas_contaminadas\n",
    "\n",
    "# Calcular combinaciones totales de seleccionar 3 latas de 24\n",
    "combinaciones_totales = math.comb(total_latas, 3)\n",
    "\n",
    "# Calcular combinaciones de seleccionar 3 latas de las 22 no contaminadas\n",
    "combinaciones_no_contaminadas = math.comb(latas_no_contaminadas, 3)\n",
    "\n",
    "# Probabilidad de seleccionar al menos una lata contaminada\n",
    "probabilidad_al_menos_una_contaminada = 1 - (combinaciones_no_contaminadas / combinaciones_totales)\n",
    "\n",
    "print(f\"La probabilidad de que al menos una lata contaminada sea seleccionada {probabilidad_al_menos_una_contaminada*100:.2f}%\")\n"
   ]
  },
  {
   "cell_type": "markdown",
   "metadata": {},
   "source": [
    "<font size=\"4\"> **d)** ¿Y la probabilidad de que no se elijan latas contaminadas para la prueba?</font>\n",
    "\n",
    "Para calcular la probabilidad de que no se elijan latas contaminadas en las tres latas seleccionadas al azar, podemos seguir estos pasos:\n",
    "\n",
    "1. Número de formas de seleccionar tres latas no contaminadas:\n",
    "\n",
    "   - Hay 22 latas no contaminadas y 2 latas contaminadas.\n",
    "   - Necesitamos elegir las 3 latas no contaminadas de las 22 disponibles.\n",
    "\n",
    "   Utilizamos la fórmula de combinaciones para calcular esto:\n",
    "\n",
    "   \n",
    "   $$C(22, 3) = \\frac{22 \\times 21 \\times 20}{3 \\times 2 \\times 1} = 1540$$\n",
    "   \n",
    "\n",
    "2. Número total de formas de seleccionar 3 latas de las 24 disponibles:\n",
    "\n",
    "   \n",
    "   $$C(24, 3) = \\frac{24 \\times 23 \\times 22}{3 \\times 2 \\times 1} = 2024$$\n",
    "   \n",
    "\n",
    "3. Probabilidad de no seleccionar latas contaminadas:\n",
    "\n",
    "   La probabilidad de que las 3 latas seleccionadas al azar no sean contaminadas se calcula dividiendo el número de formas favorables (seleccionar 3 latas no contaminadas) entre el número total de formas posibles (seleccionar cualquier combinación de 3 latas):\n",
    "\n",
    "   \n",
    "   $$P(\\text{ninguna lata contaminada}) = \\frac{C(22, 3)}{C(24, 3)} = \\frac{1540}{2024} \\approx 0.7603$$\n",
    "   \n",
    "\n",
    "La probabilidad de que no se elijan latas contaminadas en las tres latas seleccionadas al azar es aproximadamente $ 76.03\\% $."
   ]
  },
  {
   "cell_type": "code",
   "execution_count": 68,
   "metadata": {},
   "outputs": [
    {
     "name": "stdout",
     "output_type": "stream",
     "text": [
      "Probabilidad de no seleccionar latas contaminadas es de: 76.09%\n"
     ]
    }
   ],
   "source": [
    "\n",
    "# Número total de latas y número de latas contaminadas\n",
    "total_latas = 24\n",
    "\n",
    "# Número de latas no contaminadas\n",
    "no_contaminadas = total_latas - latas_contaminadas\n",
    "\n",
    "# Número de formas de seleccionar ninguna lata contaminada\n",
    "num_combinaciones_no_contaminadas = math.comb(no_contaminadas, 3)  # Seleccionar 3 latas no contaminadas de 22\n",
    "\n",
    "# Número total de formas de seleccionar 3 latas de 24\n",
    "num_total_combinaciones = math.comb(total_latas, 3)\n",
    "\n",
    "# Probabilidad de no seleccionar latas contaminadas\n",
    "probabilidad = num_combinaciones_no_contaminadas / num_total_combinaciones\n",
    "\n",
    "print(f\"Probabilidad de no seleccionar latas contaminadas es de: {probabilidad*100:.2f}%\")"
   ]
  }
 ],
 "metadata": {
  "kernelspec": {
   "display_name": "Python 3",
   "language": "python",
   "name": "python3"
  },
  "language_info": {
   "codemirror_mode": {
    "name": "ipython",
    "version": 3
   },
   "file_extension": ".py",
   "mimetype": "text/x-python",
   "name": "python",
   "nbconvert_exporter": "python",
   "pygments_lexer": "ipython3",
   "version": "3.12.4"
  }
 },
 "nbformat": 4,
 "nbformat_minor": 2
}
